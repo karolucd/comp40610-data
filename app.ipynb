{
  "metadata": {
    "language_info": {
      "codemirror_mode": {
        "name": "python",
        "version": 3
      },
      "file_extension": ".py",
      "mimetype": "text/x-python",
      "name": "python",
      "nbconvert_exporter": "python",
      "pygments_lexer": "ipython3",
      "version": "3.8"
    },
    "kernelspec": {
      "name": "python",
      "display_name": "Python (Pyodide)",
      "language": "python"
    }
  },
  "nbformat_minor": 4,
  "nbformat": 4,
  "cells": [
    {
      "cell_type": "code",
      "source": "import pandas as pd",
      "metadata": {
        "trusted": true
      },
      "execution_count": 1,
      "outputs": []
    },
    {
      "cell_type": "code",
      "source": "df = pd.read_csv('board_games.csv')",
      "metadata": {
        "trusted": true
      },
      "execution_count": 2,
      "outputs": []
    },
    {
      "cell_type": "code",
      "source": "print(df.shape)",
      "metadata": {
        "trusted": true
      },
      "execution_count": 3,
      "outputs": [
        {
          "name": "stdout",
          "text": "(10532, 22)\n",
          "output_type": "stream"
        }
      ]
    },
    {
      "cell_type": "code",
      "source": "df.head()",
      "metadata": {
        "trusted": true
      },
      "execution_count": 4,
      "outputs": [
        {
          "execution_count": 4,
          "output_type": "execute_result",
          "data": {
            "text/plain": "   game_id                                        description  \\\n0        1  Die Macher is a game about seven sequential po...   \n1        2  Dragonmaster is a trick-taking card game based...   \n2        3  Part of the Knizia tile-laying trilogy, Samura...   \n3        4  When you see the triangular box and the luxuri...   \n4        5  In Acquire, each player strategically invests ...   \n\n                                          image  max_players  max_playtime  \\\n0   //cf.geekdo-images.com/images/pic159509.jpg            5           240   \n1   //cf.geekdo-images.com/images/pic184174.jpg            4            30   \n2  //cf.geekdo-images.com/images/pic3211873.jpg            4            60   \n3   //cf.geekdo-images.com/images/pic285299.jpg            4            60   \n4   //cf.geekdo-images.com/images/pic342163.jpg            6            90   \n\n   min_age  min_players  min_playtime            name  playing_time  ...  \\\n0       14            3           240      Die Macher           240  ...   \n1       12            3            30    Dragonmaster            30  ...   \n2       10            2            30         Samurai            60  ...   \n3       12            2            60  Tal der Könige            60  ...   \n4       12            3            90         Acquire            90  ...   \n\n                        artist                        category compilation  \\\n0          Marcus Gschwendtner  Economic,Negotiation,Political         NaN   \n1                   Bob Pepper               Card Game,Fantasy         NaN   \n2              Franz Vohwinkel      Abstract Strategy,Medieval         NaN   \n3                          NaN                         Ancient         NaN   \n4  Scott Okumura,Peter Whitley                        Economic         NaN   \n\n                designer expansion  \\\n0     Karl-Heinz Schmiel       NaN   \n1  G. W. \"Jerry\" D'Arcey       NaN   \n2          Reiner Knizia       NaN   \n3      Christian Beierer       NaN   \n4            Sid Sackson       NaN   \n\n                                              family  \\\n0         Country: Germany,Valley Games Classic Line   \n1                                   Animals: Dragons   \n2  Asian Theme,Country: Japan,Knizia tile-laying ...   \n3             Country: Egypt,Promotional Board Games   \n4                                3M Bookshelf Series   \n\n                                            mechanic  \\\n0  Area Control / Area Influence,Auction/Bidding,...   \n1                                       Trick-taking   \n2  Area Control / Area Influence,Hand Management,...   \n3  Action Point Allowance System,Area Control / A...   \n4       Hand Management,Stock Holding,Tile Placement   \n\n                                           publisher average_rating  \\\n0  Hans im Glück Verlags-GmbH,Moskito Spiele,Vall...        7.66508   \n1                           E.S. Lowe,Milton Bradley        6.60815   \n2  999 Games,ABACUSSPIELE,Astrel Games,Ceilikan J...        7.44119   \n3                                             KOSMOS        6.60675   \n4  3M,Avalon Hill,Avalon Hill (Hasbro),Dujardin,G...        7.35830   \n\n  users_rated  \n0        4498  \n1         478  \n2       12019  \n3         314  \n4       15195  \n\n[5 rows x 22 columns]",
            "text/html": "<div>\n<style scoped>\n    .dataframe tbody tr th:only-of-type {\n        vertical-align: middle;\n    }\n\n    .dataframe tbody tr th {\n        vertical-align: top;\n    }\n\n    .dataframe thead th {\n        text-align: right;\n    }\n</style>\n<table border=\"1\" class=\"dataframe\">\n  <thead>\n    <tr style=\"text-align: right;\">\n      <th></th>\n      <th>game_id</th>\n      <th>description</th>\n      <th>image</th>\n      <th>max_players</th>\n      <th>max_playtime</th>\n      <th>min_age</th>\n      <th>min_players</th>\n      <th>min_playtime</th>\n      <th>name</th>\n      <th>playing_time</th>\n      <th>...</th>\n      <th>artist</th>\n      <th>category</th>\n      <th>compilation</th>\n      <th>designer</th>\n      <th>expansion</th>\n      <th>family</th>\n      <th>mechanic</th>\n      <th>publisher</th>\n      <th>average_rating</th>\n      <th>users_rated</th>\n    </tr>\n  </thead>\n  <tbody>\n    <tr>\n      <th>0</th>\n      <td>1</td>\n      <td>Die Macher is a game about seven sequential po...</td>\n      <td>//cf.geekdo-images.com/images/pic159509.jpg</td>\n      <td>5</td>\n      <td>240</td>\n      <td>14</td>\n      <td>3</td>\n      <td>240</td>\n      <td>Die Macher</td>\n      <td>240</td>\n      <td>...</td>\n      <td>Marcus Gschwendtner</td>\n      <td>Economic,Negotiation,Political</td>\n      <td>NaN</td>\n      <td>Karl-Heinz Schmiel</td>\n      <td>NaN</td>\n      <td>Country: Germany,Valley Games Classic Line</td>\n      <td>Area Control / Area Influence,Auction/Bidding,...</td>\n      <td>Hans im Glück Verlags-GmbH,Moskito Spiele,Vall...</td>\n      <td>7.66508</td>\n      <td>4498</td>\n    </tr>\n    <tr>\n      <th>1</th>\n      <td>2</td>\n      <td>Dragonmaster is a trick-taking card game based...</td>\n      <td>//cf.geekdo-images.com/images/pic184174.jpg</td>\n      <td>4</td>\n      <td>30</td>\n      <td>12</td>\n      <td>3</td>\n      <td>30</td>\n      <td>Dragonmaster</td>\n      <td>30</td>\n      <td>...</td>\n      <td>Bob Pepper</td>\n      <td>Card Game,Fantasy</td>\n      <td>NaN</td>\n      <td>G. W. \"Jerry\" D'Arcey</td>\n      <td>NaN</td>\n      <td>Animals: Dragons</td>\n      <td>Trick-taking</td>\n      <td>E.S. Lowe,Milton Bradley</td>\n      <td>6.60815</td>\n      <td>478</td>\n    </tr>\n    <tr>\n      <th>2</th>\n      <td>3</td>\n      <td>Part of the Knizia tile-laying trilogy, Samura...</td>\n      <td>//cf.geekdo-images.com/images/pic3211873.jpg</td>\n      <td>4</td>\n      <td>60</td>\n      <td>10</td>\n      <td>2</td>\n      <td>30</td>\n      <td>Samurai</td>\n      <td>60</td>\n      <td>...</td>\n      <td>Franz Vohwinkel</td>\n      <td>Abstract Strategy,Medieval</td>\n      <td>NaN</td>\n      <td>Reiner Knizia</td>\n      <td>NaN</td>\n      <td>Asian Theme,Country: Japan,Knizia tile-laying ...</td>\n      <td>Area Control / Area Influence,Hand Management,...</td>\n      <td>999 Games,ABACUSSPIELE,Astrel Games,Ceilikan J...</td>\n      <td>7.44119</td>\n      <td>12019</td>\n    </tr>\n    <tr>\n      <th>3</th>\n      <td>4</td>\n      <td>When you see the triangular box and the luxuri...</td>\n      <td>//cf.geekdo-images.com/images/pic285299.jpg</td>\n      <td>4</td>\n      <td>60</td>\n      <td>12</td>\n      <td>2</td>\n      <td>60</td>\n      <td>Tal der Könige</td>\n      <td>60</td>\n      <td>...</td>\n      <td>NaN</td>\n      <td>Ancient</td>\n      <td>NaN</td>\n      <td>Christian Beierer</td>\n      <td>NaN</td>\n      <td>Country: Egypt,Promotional Board Games</td>\n      <td>Action Point Allowance System,Area Control / A...</td>\n      <td>KOSMOS</td>\n      <td>6.60675</td>\n      <td>314</td>\n    </tr>\n    <tr>\n      <th>4</th>\n      <td>5</td>\n      <td>In Acquire, each player strategically invests ...</td>\n      <td>//cf.geekdo-images.com/images/pic342163.jpg</td>\n      <td>6</td>\n      <td>90</td>\n      <td>12</td>\n      <td>3</td>\n      <td>90</td>\n      <td>Acquire</td>\n      <td>90</td>\n      <td>...</td>\n      <td>Scott Okumura,Peter Whitley</td>\n      <td>Economic</td>\n      <td>NaN</td>\n      <td>Sid Sackson</td>\n      <td>NaN</td>\n      <td>3M Bookshelf Series</td>\n      <td>Hand Management,Stock Holding,Tile Placement</td>\n      <td>3M,Avalon Hill,Avalon Hill (Hasbro),Dujardin,G...</td>\n      <td>7.35830</td>\n      <td>15195</td>\n    </tr>\n  </tbody>\n</table>\n<p>5 rows × 22 columns</p>\n</div>"
          },
          "metadata": {}
        }
      ]
    },
    {
      "cell_type": "code",
      "source": "df = df.drop(['image', 'thumbnail'], axis=1)",
      "metadata": {
        "trusted": true
      },
      "execution_count": 5,
      "outputs": []
    },
    {
      "cell_type": "code",
      "source": "df.head()",
      "metadata": {
        "trusted": true
      },
      "execution_count": 6,
      "outputs": [
        {
          "execution_count": 6,
          "output_type": "execute_result",
          "data": {
            "text/plain": "   game_id                                        description  max_players  \\\n0        1  Die Macher is a game about seven sequential po...            5   \n1        2  Dragonmaster is a trick-taking card game based...            4   \n2        3  Part of the Knizia tile-laying trilogy, Samura...            4   \n3        4  When you see the triangular box and the luxuri...            4   \n4        5  In Acquire, each player strategically invests ...            6   \n\n   max_playtime  min_age  min_players  min_playtime            name  \\\n0           240       14            3           240      Die Macher   \n1            30       12            3            30    Dragonmaster   \n2            60       10            2            30         Samurai   \n3            60       12            2            60  Tal der Könige   \n4            90       12            3            90         Acquire   \n\n   playing_time  year_published                       artist  \\\n0           240            1986          Marcus Gschwendtner   \n1            30            1981                   Bob Pepper   \n2            60            1998              Franz Vohwinkel   \n3            60            1992                          NaN   \n4            90            1964  Scott Okumura,Peter Whitley   \n\n                         category compilation               designer  \\\n0  Economic,Negotiation,Political         NaN     Karl-Heinz Schmiel   \n1               Card Game,Fantasy         NaN  G. W. \"Jerry\" D'Arcey   \n2      Abstract Strategy,Medieval         NaN          Reiner Knizia   \n3                         Ancient         NaN      Christian Beierer   \n4                        Economic         NaN            Sid Sackson   \n\n  expansion                                             family  \\\n0       NaN         Country: Germany,Valley Games Classic Line   \n1       NaN                                   Animals: Dragons   \n2       NaN  Asian Theme,Country: Japan,Knizia tile-laying ...   \n3       NaN             Country: Egypt,Promotional Board Games   \n4       NaN                                3M Bookshelf Series   \n\n                                            mechanic  \\\n0  Area Control / Area Influence,Auction/Bidding,...   \n1                                       Trick-taking   \n2  Area Control / Area Influence,Hand Management,...   \n3  Action Point Allowance System,Area Control / A...   \n4       Hand Management,Stock Holding,Tile Placement   \n\n                                           publisher  average_rating  \\\n0  Hans im Glück Verlags-GmbH,Moskito Spiele,Vall...         7.66508   \n1                           E.S. Lowe,Milton Bradley         6.60815   \n2  999 Games,ABACUSSPIELE,Astrel Games,Ceilikan J...         7.44119   \n3                                             KOSMOS         6.60675   \n4  3M,Avalon Hill,Avalon Hill (Hasbro),Dujardin,G...         7.35830   \n\n   users_rated  \n0         4498  \n1          478  \n2        12019  \n3          314  \n4        15195  ",
            "text/html": "<div>\n<style scoped>\n    .dataframe tbody tr th:only-of-type {\n        vertical-align: middle;\n    }\n\n    .dataframe tbody tr th {\n        vertical-align: top;\n    }\n\n    .dataframe thead th {\n        text-align: right;\n    }\n</style>\n<table border=\"1\" class=\"dataframe\">\n  <thead>\n    <tr style=\"text-align: right;\">\n      <th></th>\n      <th>game_id</th>\n      <th>description</th>\n      <th>max_players</th>\n      <th>max_playtime</th>\n      <th>min_age</th>\n      <th>min_players</th>\n      <th>min_playtime</th>\n      <th>name</th>\n      <th>playing_time</th>\n      <th>year_published</th>\n      <th>artist</th>\n      <th>category</th>\n      <th>compilation</th>\n      <th>designer</th>\n      <th>expansion</th>\n      <th>family</th>\n      <th>mechanic</th>\n      <th>publisher</th>\n      <th>average_rating</th>\n      <th>users_rated</th>\n    </tr>\n  </thead>\n  <tbody>\n    <tr>\n      <th>0</th>\n      <td>1</td>\n      <td>Die Macher is a game about seven sequential po...</td>\n      <td>5</td>\n      <td>240</td>\n      <td>14</td>\n      <td>3</td>\n      <td>240</td>\n      <td>Die Macher</td>\n      <td>240</td>\n      <td>1986</td>\n      <td>Marcus Gschwendtner</td>\n      <td>Economic,Negotiation,Political</td>\n      <td>NaN</td>\n      <td>Karl-Heinz Schmiel</td>\n      <td>NaN</td>\n      <td>Country: Germany,Valley Games Classic Line</td>\n      <td>Area Control / Area Influence,Auction/Bidding,...</td>\n      <td>Hans im Glück Verlags-GmbH,Moskito Spiele,Vall...</td>\n      <td>7.66508</td>\n      <td>4498</td>\n    </tr>\n    <tr>\n      <th>1</th>\n      <td>2</td>\n      <td>Dragonmaster is a trick-taking card game based...</td>\n      <td>4</td>\n      <td>30</td>\n      <td>12</td>\n      <td>3</td>\n      <td>30</td>\n      <td>Dragonmaster</td>\n      <td>30</td>\n      <td>1981</td>\n      <td>Bob Pepper</td>\n      <td>Card Game,Fantasy</td>\n      <td>NaN</td>\n      <td>G. W. \"Jerry\" D'Arcey</td>\n      <td>NaN</td>\n      <td>Animals: Dragons</td>\n      <td>Trick-taking</td>\n      <td>E.S. Lowe,Milton Bradley</td>\n      <td>6.60815</td>\n      <td>478</td>\n    </tr>\n    <tr>\n      <th>2</th>\n      <td>3</td>\n      <td>Part of the Knizia tile-laying trilogy, Samura...</td>\n      <td>4</td>\n      <td>60</td>\n      <td>10</td>\n      <td>2</td>\n      <td>30</td>\n      <td>Samurai</td>\n      <td>60</td>\n      <td>1998</td>\n      <td>Franz Vohwinkel</td>\n      <td>Abstract Strategy,Medieval</td>\n      <td>NaN</td>\n      <td>Reiner Knizia</td>\n      <td>NaN</td>\n      <td>Asian Theme,Country: Japan,Knizia tile-laying ...</td>\n      <td>Area Control / Area Influence,Hand Management,...</td>\n      <td>999 Games,ABACUSSPIELE,Astrel Games,Ceilikan J...</td>\n      <td>7.44119</td>\n      <td>12019</td>\n    </tr>\n    <tr>\n      <th>3</th>\n      <td>4</td>\n      <td>When you see the triangular box and the luxuri...</td>\n      <td>4</td>\n      <td>60</td>\n      <td>12</td>\n      <td>2</td>\n      <td>60</td>\n      <td>Tal der Könige</td>\n      <td>60</td>\n      <td>1992</td>\n      <td>NaN</td>\n      <td>Ancient</td>\n      <td>NaN</td>\n      <td>Christian Beierer</td>\n      <td>NaN</td>\n      <td>Country: Egypt,Promotional Board Games</td>\n      <td>Action Point Allowance System,Area Control / A...</td>\n      <td>KOSMOS</td>\n      <td>6.60675</td>\n      <td>314</td>\n    </tr>\n    <tr>\n      <th>4</th>\n      <td>5</td>\n      <td>In Acquire, each player strategically invests ...</td>\n      <td>6</td>\n      <td>90</td>\n      <td>12</td>\n      <td>3</td>\n      <td>90</td>\n      <td>Acquire</td>\n      <td>90</td>\n      <td>1964</td>\n      <td>Scott Okumura,Peter Whitley</td>\n      <td>Economic</td>\n      <td>NaN</td>\n      <td>Sid Sackson</td>\n      <td>NaN</td>\n      <td>3M Bookshelf Series</td>\n      <td>Hand Management,Stock Holding,Tile Placement</td>\n      <td>3M,Avalon Hill,Avalon Hill (Hasbro),Dujardin,G...</td>\n      <td>7.35830</td>\n      <td>15195</td>\n    </tr>\n  </tbody>\n</table>\n</div>"
          },
          "metadata": {}
        }
      ]
    },
    {
      "cell_type": "markdown",
      "source": "### Checking for NULL values (we will drop NAN colums with > 5% and drop NAN rows < 2%)",
      "metadata": {}
    },
    {
      "cell_type": "code",
      "source": "print(df['compilation'].isna().sum() / df.shape[0])",
      "metadata": {
        "trusted": true
      },
      "execution_count": 7,
      "outputs": [
        {
          "name": "stdout",
          "text": "0.9610710216483099\n",
          "output_type": "stream"
        }
      ]
    },
    {
      "cell_type": "code",
      "source": "print(df['expansion'].isna().sum() / df.shape[0])",
      "metadata": {
        "trusted": true
      },
      "execution_count": 8,
      "outputs": [
        {
          "name": "stdout",
          "text": "0.7387011014052411\n",
          "output_type": "stream"
        }
      ]
    },
    {
      "cell_type": "code",
      "source": "df = df.drop(['compilation', 'expansion'], axis=1)",
      "metadata": {
        "trusted": true
      },
      "execution_count": 9,
      "outputs": []
    },
    {
      "cell_type": "code",
      "source": "print(df['description'].isna().sum() / df.shape[0])",
      "metadata": {
        "trusted": true
      },
      "execution_count": 10,
      "outputs": [
        {
          "name": "stdout",
          "text": "0.0\n",
          "output_type": "stream"
        }
      ]
    },
    {
      "cell_type": "code",
      "source": "print(df['max_players'].isna().sum() / df.shape[0])",
      "metadata": {
        "trusted": true
      },
      "execution_count": 11,
      "outputs": [
        {
          "name": "stdout",
          "text": "0.0\n",
          "output_type": "stream"
        }
      ]
    },
    {
      "cell_type": "code",
      "source": "print(df['max_playtime'].isna().sum() / df.shape[0])",
      "metadata": {
        "trusted": true
      },
      "execution_count": 12,
      "outputs": [
        {
          "name": "stdout",
          "text": "0.0\n",
          "output_type": "stream"
        }
      ]
    },
    {
      "cell_type": "code",
      "source": "print(df['min_age'].isna().sum() / df.shape[0])",
      "metadata": {
        "trusted": true
      },
      "execution_count": 13,
      "outputs": [
        {
          "name": "stdout",
          "text": "0.0\n",
          "output_type": "stream"
        }
      ]
    },
    {
      "cell_type": "code",
      "source": "print(df['min_players'].isna().sum() / df.shape[0])",
      "metadata": {
        "trusted": true
      },
      "execution_count": 14,
      "outputs": [
        {
          "name": "stdout",
          "text": "0.0\n",
          "output_type": "stream"
        }
      ]
    },
    {
      "cell_type": "code",
      "source": "print(df['min_playtime'].isna().sum() / df.shape[0])",
      "metadata": {
        "trusted": true
      },
      "execution_count": 15,
      "outputs": [
        {
          "name": "stdout",
          "text": "0.0\n",
          "output_type": "stream"
        }
      ]
    },
    {
      "cell_type": "code",
      "source": "print(df['name'].isna().sum() / df.shape[0])",
      "metadata": {
        "trusted": true
      },
      "execution_count": 16,
      "outputs": [
        {
          "name": "stdout",
          "text": "0.0\n",
          "output_type": "stream"
        }
      ]
    },
    {
      "cell_type": "code",
      "source": "print(df['year_published'].isna().sum() / df.shape[0])",
      "metadata": {
        "trusted": true
      },
      "execution_count": 17,
      "outputs": [
        {
          "name": "stdout",
          "text": "0.0\n",
          "output_type": "stream"
        }
      ]
    },
    {
      "cell_type": "markdown",
      "source": "#### 26% of my artists are NAN - we will impute the values with \"Unknown Artist\" - as dropping 1/4 of my data us too high as it would affect the quality of the visualizations",
      "metadata": {}
    },
    {
      "cell_type": "code",
      "source": "print(df['artist'].isna().sum() / df.shape[0])",
      "metadata": {
        "trusted": true
      },
      "execution_count": 18,
      "outputs": [
        {
          "name": "stdout",
          "text": "0.26329282187618686\n",
          "output_type": "stream"
        }
      ]
    },
    {
      "cell_type": "code",
      "source": "print(df['category'].isna().sum() / df.shape[0])",
      "metadata": {
        "trusted": true
      },
      "execution_count": 19,
      "outputs": [
        {
          "name": "stdout",
          "text": "0.008925180402582606\n",
          "output_type": "stream"
        }
      ]
    },
    {
      "cell_type": "code",
      "source": "df = df.dropna(subset=['category'])",
      "metadata": {
        "trusted": true
      },
      "execution_count": 20,
      "outputs": []
    },
    {
      "cell_type": "code",
      "source": "print(df['category'].isna().sum() / df.shape[0])",
      "metadata": {
        "trusted": true
      },
      "execution_count": 21,
      "outputs": [
        {
          "name": "stdout",
          "text": "0.0\n",
          "output_type": "stream"
        }
      ]
    },
    {
      "cell_type": "code",
      "source": "print(df['designer'].isna().sum() / df.shape[0])",
      "metadata": {
        "trusted": true
      },
      "execution_count": 22,
      "outputs": [
        {
          "name": "stdout",
          "text": "0.011592259053458518\n",
          "output_type": "stream"
        }
      ]
    },
    {
      "cell_type": "code",
      "source": "df = df.dropna(subset=['designer'])",
      "metadata": {
        "trusted": true
      },
      "execution_count": 23,
      "outputs": []
    },
    {
      "cell_type": "code",
      "source": "print(df['designer'].isna().sum() / df.shape[0])",
      "metadata": {
        "trusted": true
      },
      "execution_count": 24,
      "outputs": [
        {
          "name": "stdout",
          "text": "0.0\n",
          "output_type": "stream"
        }
      ]
    },
    {
      "cell_type": "markdown",
      "source": "#### 26% of my family are NAN - we will impute the values with \"General\" - as dropping 1/4 of my data us too high as it would affect the quality of the visualizations",
      "metadata": {}
    },
    {
      "cell_type": "code",
      "source": "print(df['family'].isna().sum() / df.shape[0])",
      "metadata": {
        "trusted": true
      },
      "execution_count": 25,
      "outputs": [
        {
          "name": "stdout",
          "text": "0.26548415236987494\n",
          "output_type": "stream"
        }
      ]
    },
    {
      "cell_type": "code",
      "source": "print(df['mechanic'].isna().sum() / df.shape[0])",
      "metadata": {
        "trusted": true
      },
      "execution_count": 26,
      "outputs": [
        {
          "name": "stdout",
          "text": "0.08820393525249588\n",
          "output_type": "stream"
        }
      ]
    },
    {
      "cell_type": "code",
      "source": "df = df.dropna(subset=['mechanic'])",
      "metadata": {
        "trusted": true
      },
      "execution_count": 27,
      "outputs": []
    },
    {
      "cell_type": "code",
      "source": "print(df['mechanic'].isna().sum() / df.shape[0])",
      "metadata": {
        "trusted": true
      },
      "execution_count": 28,
      "outputs": [
        {
          "name": "stdout",
          "text": "0.0\n",
          "output_type": "stream"
        }
      ]
    },
    {
      "cell_type": "code",
      "source": "print(df['publisher'].isna().sum() / df.shape[0])",
      "metadata": {
        "trusted": true
      },
      "execution_count": 29,
      "outputs": [
        {
          "name": "stdout",
          "text": "0.00021260763261401084\n",
          "output_type": "stream"
        }
      ]
    },
    {
      "cell_type": "code",
      "source": "df = df.dropna(subset=['publisher'])",
      "metadata": {
        "trusted": true
      },
      "execution_count": 30,
      "outputs": []
    },
    {
      "cell_type": "code",
      "source": "print(df['publisher'].isna().sum() / df.shape[0])",
      "metadata": {
        "trusted": true
      },
      "execution_count": 31,
      "outputs": [
        {
          "name": "stdout",
          "text": "0.0\n",
          "output_type": "stream"
        }
      ]
    },
    {
      "cell_type": "code",
      "source": "print(df['average_rating'].isna().sum() / df.shape[0])",
      "metadata": {
        "trusted": true
      },
      "execution_count": 32,
      "outputs": [
        {
          "name": "stdout",
          "text": "0.0\n",
          "output_type": "stream"
        }
      ]
    },
    {
      "cell_type": "code",
      "source": "print(df['users_rated'].isna().sum() / df.shape[0])",
      "metadata": {
        "trusted": true
      },
      "execution_count": 33,
      "outputs": [
        {
          "name": "stdout",
          "text": "0.0\n",
          "output_type": "stream"
        }
      ]
    },
    {
      "cell_type": "code",
      "source": "print(df.shape)",
      "metadata": {
        "trusted": true
      },
      "execution_count": 34,
      "outputs": [
        {
          "name": "stdout",
          "text": "(9405, 18)\n",
          "output_type": "stream"
        }
      ]
    },
    {
      "cell_type": "markdown",
      "source": "#### Certain board game have a max_playtime of 60,000 mins which is a massive outlier therefore we will filter out all board game that have a max_playtime graeter than 360 mins (there's only a few outliers despite this they skew the visualizations heavily)",
      "metadata": {}
    },
    {
      "cell_type": "code",
      "source": "# Drop rows with max_playtime > 360\ndf = df[df['max_playtime'] <= 360]",
      "metadata": {
        "trusted": true
      },
      "execution_count": 35,
      "outputs": []
    },
    {
      "cell_type": "markdown",
      "source": "#### Certain board games have a max_playtime of 0 or < 10 - we will remove all games that last have a max_playtime < 10",
      "metadata": {}
    },
    {
      "cell_type": "code",
      "source": "# Drop rows with max_playtime < 10\ndf = df[df['max_playtime'] >= 10]",
      "metadata": {
        "trusted": true
      },
      "execution_count": 36,
      "outputs": []
    },
    {
      "cell_type": "markdown",
      "source": "#### The original categories are grouped into new categories based on similarity, and then the categories are mapped to the new categories using a dictionary. Finally, only the top 10 most common categories are kept in the dataset.",
      "metadata": {}
    },
    {
      "cell_type": "code",
      "source": "# create dictionary of category groups\ncategory_groups = {\n    'Economic': ['Economic', 'Industry / Manufacturing'],\n    'Strategy': ['Strategy', 'Medieval', 'Civilization', 'City Building', 'Wargame', 'Abstract Strategy', 'Territory Building'],\n    'Party': ['Party Game'],\n    'Fantasy/Sci-Fi': ['Fantasy', 'Science Fiction'],\n    'Card': ['Card Game', 'Deck / Pool Building'],\n    'Word': ['Word Game'],\n    'Family': ['Family Game'],\n    'Dice': ['Dice'],\n    'Adventure': ['Adventure', 'Exploration']\n}\n\n# map original categories to new categories based on the category groups\ndf['category'] = df['category'].apply(lambda x: next((k for k, v in category_groups.items() if x in v), x))\n\n# keep only the top 10 most common categories\ntop_categories = df['category'].value_counts().head(10).index.tolist()\ndf = df[df['category'].isin(top_categories)]",
      "metadata": {
        "trusted": true
      },
      "execution_count": 37,
      "outputs": []
    },
    {
      "cell_type": "code",
      "source": "print(df['category'].unique())",
      "metadata": {
        "trusted": true
      },
      "execution_count": 38,
      "outputs": [
        {
          "name": "stdout",
          "text": "['Card Game,Fantasy' 'Economic' 'Strategy' 'Fantasy/Sci-Fi' 'Dice' 'Card'\n 'Wargame,World War II' 'American Civil War,Wargame' 'Napoleonic,Wargame'\n 'Modern Warfare,Wargame']\n",
          "output_type": "stream"
        }
      ]
    },
    {
      "cell_type": "code",
      "source": "def get_range_of_players(num_players):\n    if num_players <= 2:\n        return \"1-2 Players\"\n    elif num_players <= 4:\n        return \"3-4 Players\"\n    elif num_players <= 6:\n        return \"5-6 Players\"\n    elif num_players <= 8:\n        return \"7-8 Players\"\n    elif num_players <= 10:\n        return \"9-10 Players\"\n    elif num_players <= 12:\n        return \"11-12 Players\"\n    elif num_players <= 14:\n        return \"13-14 Players\"\n    elif num_players <= 16:\n        return \"15-16 Players\"\n    elif num_players <= 18:\n        return \"17-18 Players\"\n    else:\n        return \"19+ Players\"\n\ndf['range_of_players'] = df['max_players'].apply(get_range_of_players)\ndf = df.drop(['min_players', 'max_players'], axis=1)\ndf.head()",
      "metadata": {
        "trusted": true
      },
      "execution_count": 39,
      "outputs": [
        {
          "execution_count": 39,
          "output_type": "execute_result",
          "data": {
            "text/plain": "    game_id                                        description  max_playtime  \\\n1         2  Dragonmaster is a trick-taking card game based...            30   \n4         5  In Acquire, each player strategically invests ...            90   \n6         7  In Cathedral, each player has a set of pieces ...            20   \n15       16  Taking on the roles of shop owners in the Moro...            60   \n19       20  In this game of science fiction strip mining, ...            90   \n\n    min_age  min_playtime                name  playing_time  year_published  \\\n1        12            30        Dragonmaster            30            1981   \n4        12            90             Acquire            90            1964   \n6         8            20           Cathedral            20            1978   \n15       12            60           MarraCash            60            1996   \n19       12            90  Full Metal Planète            90            1988   \n\n                         artist           category  \\\n1                    Bob Pepper  Card Game,Fantasy   \n4   Scott Okumura,Peter Whitley           Economic   \n6                   S. Mattusek           Strategy   \n15     Marion Pott,Oliver Vogel           Economic   \n19               Pascal Trigaux     Fantasy/Sci-Fi   \n\n                                         designer  \\\n1                           G. W. \"Jerry\" D'Arcey   \n4                                     Sid Sackson   \n6                                 Robert P. Moore   \n15                                   Stefan Dorra   \n19  Gérard Delfanti,Gérard Mathieu,Pascal Trigaux   \n\n                                               family  \\\n1                                    Animals: Dragons   \n4                                 3M Bookshelf Series   \n6                           Combinatorial,Polyominoes   \n15  Admin: Better Description Needed!,Cities: Marr...   \n19                  Admin: Better Description Needed!   \n\n                                             mechanic  \\\n1                                        Trick-taking   \n4        Hand Management,Stock Holding,Tile Placement   \n6   Area Enclosure,Pattern Building,Pattern Recogn...   \n15                                    Auction/Bidding   \n19                      Action Point Allowance System   \n\n                                            publisher  average_rating  \\\n1                            E.S. Lowe,Milton Bradley         6.60815   \n4   3M,Avalon Hill,Avalon Hill (Hasbro),Dujardin,G...         7.35830   \n6   Brightway Products Ltd,Falomir Juegos,Family G...         6.50534   \n15                                             KOSMOS         6.84341   \n19                                         Ludodélire         7.43592   \n\n    users_rated range_of_players  \n1           478      3-4 Players  \n4         15195      5-6 Players  \n6          2751      1-2 Players  \n15          877      3-4 Players  \n19          602      3-4 Players  ",
            "text/html": "<div>\n<style scoped>\n    .dataframe tbody tr th:only-of-type {\n        vertical-align: middle;\n    }\n\n    .dataframe tbody tr th {\n        vertical-align: top;\n    }\n\n    .dataframe thead th {\n        text-align: right;\n    }\n</style>\n<table border=\"1\" class=\"dataframe\">\n  <thead>\n    <tr style=\"text-align: right;\">\n      <th></th>\n      <th>game_id</th>\n      <th>description</th>\n      <th>max_playtime</th>\n      <th>min_age</th>\n      <th>min_playtime</th>\n      <th>name</th>\n      <th>playing_time</th>\n      <th>year_published</th>\n      <th>artist</th>\n      <th>category</th>\n      <th>designer</th>\n      <th>family</th>\n      <th>mechanic</th>\n      <th>publisher</th>\n      <th>average_rating</th>\n      <th>users_rated</th>\n      <th>range_of_players</th>\n    </tr>\n  </thead>\n  <tbody>\n    <tr>\n      <th>1</th>\n      <td>2</td>\n      <td>Dragonmaster is a trick-taking card game based...</td>\n      <td>30</td>\n      <td>12</td>\n      <td>30</td>\n      <td>Dragonmaster</td>\n      <td>30</td>\n      <td>1981</td>\n      <td>Bob Pepper</td>\n      <td>Card Game,Fantasy</td>\n      <td>G. W. \"Jerry\" D'Arcey</td>\n      <td>Animals: Dragons</td>\n      <td>Trick-taking</td>\n      <td>E.S. Lowe,Milton Bradley</td>\n      <td>6.60815</td>\n      <td>478</td>\n      <td>3-4 Players</td>\n    </tr>\n    <tr>\n      <th>4</th>\n      <td>5</td>\n      <td>In Acquire, each player strategically invests ...</td>\n      <td>90</td>\n      <td>12</td>\n      <td>90</td>\n      <td>Acquire</td>\n      <td>90</td>\n      <td>1964</td>\n      <td>Scott Okumura,Peter Whitley</td>\n      <td>Economic</td>\n      <td>Sid Sackson</td>\n      <td>3M Bookshelf Series</td>\n      <td>Hand Management,Stock Holding,Tile Placement</td>\n      <td>3M,Avalon Hill,Avalon Hill (Hasbro),Dujardin,G...</td>\n      <td>7.35830</td>\n      <td>15195</td>\n      <td>5-6 Players</td>\n    </tr>\n    <tr>\n      <th>6</th>\n      <td>7</td>\n      <td>In Cathedral, each player has a set of pieces ...</td>\n      <td>20</td>\n      <td>8</td>\n      <td>20</td>\n      <td>Cathedral</td>\n      <td>20</td>\n      <td>1978</td>\n      <td>S. Mattusek</td>\n      <td>Strategy</td>\n      <td>Robert P. Moore</td>\n      <td>Combinatorial,Polyominoes</td>\n      <td>Area Enclosure,Pattern Building,Pattern Recogn...</td>\n      <td>Brightway Products Ltd,Falomir Juegos,Family G...</td>\n      <td>6.50534</td>\n      <td>2751</td>\n      <td>1-2 Players</td>\n    </tr>\n    <tr>\n      <th>15</th>\n      <td>16</td>\n      <td>Taking on the roles of shop owners in the Moro...</td>\n      <td>60</td>\n      <td>12</td>\n      <td>60</td>\n      <td>MarraCash</td>\n      <td>60</td>\n      <td>1996</td>\n      <td>Marion Pott,Oliver Vogel</td>\n      <td>Economic</td>\n      <td>Stefan Dorra</td>\n      <td>Admin: Better Description Needed!,Cities: Marr...</td>\n      <td>Auction/Bidding</td>\n      <td>KOSMOS</td>\n      <td>6.84341</td>\n      <td>877</td>\n      <td>3-4 Players</td>\n    </tr>\n    <tr>\n      <th>19</th>\n      <td>20</td>\n      <td>In this game of science fiction strip mining, ...</td>\n      <td>90</td>\n      <td>12</td>\n      <td>90</td>\n      <td>Full Metal Planète</td>\n      <td>90</td>\n      <td>1988</td>\n      <td>Pascal Trigaux</td>\n      <td>Fantasy/Sci-Fi</td>\n      <td>Gérard Delfanti,Gérard Mathieu,Pascal Trigaux</td>\n      <td>Admin: Better Description Needed!</td>\n      <td>Action Point Allowance System</td>\n      <td>Ludodélire</td>\n      <td>7.43592</td>\n      <td>602</td>\n      <td>3-4 Players</td>\n    </tr>\n  </tbody>\n</table>\n</div>"
          },
          "metadata": {}
        }
      ]
    },
    {
      "cell_type": "code",
      "source": "df.to_csv('board_games_cleaned.csv', index=False)",
      "metadata": {
        "trusted": true
      },
      "execution_count": 40,
      "outputs": []
    },
    {
      "cell_type": "code",
      "source": "",
      "metadata": {},
      "execution_count": null,
      "outputs": []
    }
  ]
}